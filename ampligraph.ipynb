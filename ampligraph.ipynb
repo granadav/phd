{
 "cells": [
  {
   "cell_type": "code",
   "execution_count": 211,
   "id": "e4292474",
   "metadata": {},
   "outputs": [
    {
     "data": {
      "text/plain": [
       "'1.4.0'"
      ]
     },
     "execution_count": 211,
     "metadata": {},
     "output_type": "execute_result"
    }
   ],
   "source": [
    "import numpy as np\n",
    "import pandas as pd\n",
    "import ampligraph\n",
    "\n",
    "ampligraph.__version__"
   ]
  },
  {
   "cell_type": "code",
   "execution_count": 212,
   "id": "51941877",
   "metadata": {},
   "outputs": [],
   "source": [
    "import requests\n",
    "from ampligraph.datasets import load_from_csv"
   ]
  },
  {
   "cell_type": "code",
   "execution_count": 213,
   "id": "bed3206d",
   "metadata": {},
   "outputs": [
    {
     "data": {
      "text/plain": [
       "array([['c0', 'ES', 'vehiculo'],\n",
       "       ['c1', 'ES', 'vehiculo'],\n",
       "       ['c2', 'ES', 'vehiculo'],\n",
       "       ['c3', 'ES', 'vehiculo'],\n",
       "       ['c4', 'ES', 'vehiculo']], dtype=object)"
      ]
     },
     "execution_count": 213,
     "metadata": {},
     "output_type": "execute_result"
    }
   ],
   "source": [
    "#url = 'https://ampligraph.s3-eu-west-1.amazonaws.com/datasets/GoT.csv'\n",
    "#open('GoT.csv', 'wb').write(requests.get(url).content)\n",
    "#X = load_from_csv('.', 'GoT.csv', sep=',')\n",
    "X = load_from_csv('.', 'ds_01.csv', sep=',')\n",
    "X[:5, ]"
   ]
  },
  {
   "cell_type": "code",
   "execution_count": 214,
   "id": "1dd6d1ec",
   "metadata": {},
   "outputs": [
    {
     "data": {
      "text/plain": [
       "array(['abuela', 'abuelo', 'ambulancia', 'animal', 'animal_calzada',\n",
       "       'autobus', 'c0', 'c1', 'c10', 'c11', 'c12', 'c13', 'c14', 'c2',\n",
       "       'c3', 'c4', 'c5', 'c6', 'c7', 'c8', 'c9', 'calle', 'camion',\n",
       "       'camion_bomberos', 'coche', 'coche_policia',\n",
       "       'condiciones_tiempo_adversas', 'curva', 'direccion_prohibida',\n",
       "       'estar_parado_calzada', 'frenar_fuerte', 'furgoneta', 'grande',\n",
       "       'granizo', 'hielo', 'hombre', 'invadir_carril', 'ir_lento',\n",
       "       'ir_rapido', 'lento', 'lluvia', 'moto', 'mujer', 'niebla', 'nieve',\n",
       "       'niña', 'niño', 'obstaculizar', 'obstaculo_calzada', 'oscuridad',\n",
       "       'p0', 'p1', 'p10', 'p11', 'p12', 'p13', 'p14', 'p15', 'p16', 'p17',\n",
       "       'p18', 'p19', 'p2', 'p20', 'p21', 'p22', 'p23', 'p24', 'p25',\n",
       "       'p26', 'p27', 'p28', 'p29', 'p3', 'p4', 'p5', 'p6', 'p7', 'p8',\n",
       "       'p9', 'parado_calzada', 'paso_de_peatones', 'paso_nivel_cerrado',\n",
       "       'patin', 'peaton', 'peaton_calzada', 'persona', 'prioridad',\n",
       "       'retener_trafico', 'rotura_calzada', 's0', 's1', 's10', 's11',\n",
       "       's12', 's13', 's14', 's15', 's16', 's17', 's18', 's19', 's2',\n",
       "       's20', 's21', 's22', 's23', 's24', 's25', 's26', 's27', 's28',\n",
       "       's29', 's3', 's4', 's5', 's6', 's7', 's8', 's9', 'semaforo_rojo',\n",
       "       'sirenas', 'stop', 'tapar_señales', 'tranvia', 'vehiculo',\n",
       "       'vehiculo_calzada', 'vehiculo_emergencia',\n",
       "       'velocidad_no_permitida'], dtype=object)"
      ]
     },
     "execution_count": 214,
     "metadata": {},
     "output_type": "execute_result"
    }
   ],
   "source": [
    "entities = np.unique(np.concatenate([X[:, 0], X[:, 2]]))\n",
    "entities"
   ]
  },
  {
   "cell_type": "code",
   "execution_count": 215,
   "id": "f229b84e",
   "metadata": {},
   "outputs": [
    {
     "data": {
      "text/plain": [
       "232"
      ]
     },
     "execution_count": 215,
     "metadata": {},
     "output_type": "execute_result"
    }
   ],
   "source": [
    "len(X)"
   ]
  },
  {
   "cell_type": "code",
   "execution_count": 216,
   "id": "75244165",
   "metadata": {},
   "outputs": [
    {
     "data": {
      "text/plain": [
       "array(['c0', 'c1', 'c2', 'c3', 'c4', 'c5', 'c6', 'c7', 'c8', 'c9', 'c10',\n",
       "       'c11', 'c12', 'c13', 'c14', 's0', 's1', 's2', 's3', 's4', 's5',\n",
       "       's6', 's7', 's8', 's9', 's10', 's11', 's12', 's13', 's14', 's15',\n",
       "       's16', 's17', 's18', 's19', 's20', 's21', 's22', 's23', 's24',\n",
       "       's25', 's26', 's27', 's28', 's29', 'c0', 'c1', 'c2', 'c3', 'c4',\n",
       "       'c5', 'c6', 'c7', 'c8', 'c9', 'c10', 'c11', 'c12', 'c13', 'c14',\n",
       "       'c0', 'c1', 'c2', 'c3', 'c4', 'c5', 'c6', 'c7', 'c8', 'c9', 'c10',\n",
       "       'c11', 'c12', 'c13', 'c14', 'p0', 'p1', 'p2', 'p3', 'p4', 'p5',\n",
       "       'p6', 'p7', 'p8', 'p9', 'p10', 'p11', 'p12', 'p13', 'p14', 'p15',\n",
       "       'p16', 'p17', 'p18', 'p19', 'p20', 'p21', 'p22', 'p23', 'p24',\n",
       "       'p25', 'p26', 'p27', 'p28', 'p29', 'p0', 'p1', 'p2', 'p3', 'p4',\n",
       "       'p5', 'p6', 'p7', 'p8', 'p9', 'p10', 'p11', 'p12', 'p13', 'p14',\n",
       "       'obstaculo_calzada', 'obstaculo_calzada', 'obstaculo_calzada',\n",
       "       'obstaculo_calzada', 'peaton', 'peaton', 'peaton', 'peaton',\n",
       "       'peaton', 'peaton', 'peaton', 'vehiculo', 'vehiculo', 'vehiculo',\n",
       "       'vehiculo', 'vehiculo', 'vehiculo', 'vehiculo', 'vehiculo',\n",
       "       'vehiculo_emergencia', 'vehiculo_emergencia',\n",
       "       'vehiculo_emergencia', 'vehiculo_emergencia',\n",
       "       'vehiculo_emergencia', 'vehiculo', 'vehiculo', 'vehiculo',\n",
       "       'vehiculo', 'vehiculo', 'vehiculo', 'abuelo', 'abuelo', 'abuelo',\n",
       "       'abuelo', 'abuelo', 'abuelo', 'abuelo', 'abuelo', 'abuelo',\n",
       "       'abuelo', 'abuela', 'abuela', 'abuela', 'abuela', 'abuela',\n",
       "       'abuela', 'abuela', 'abuela', 'abuela', 'abuela', 'niño', 'niño',\n",
       "       'niño', 'niño', 'niño', 'niño', 'niño', 'niño', 'niño', 'niño',\n",
       "       'niña', 'niña', 'niña', 'niña', 'niña', 'niña', 'niña', 'niña',\n",
       "       'niña', 'niña', 'vehiculo', 'vehiculo', 'vehiculo', 'vehiculo',\n",
       "       'vehiculo', 'vehiculo', 'vehiculo', 'vehiculo', 'vehiculo',\n",
       "       'vehiculo', 'animal', 'animal', 'animal', 'animal', 'animal',\n",
       "       'animal', 'animal', 'animal', 'animal', 'animal',\n",
       "       'condiciones_tiempo_adversas', 'condiciones_tiempo_adversas',\n",
       "       'condiciones_tiempo_adversas', 'condiciones_tiempo_adversas',\n",
       "       'condiciones_tiempo_adversas', 'condiciones_tiempo_adversas',\n",
       "       'autobus', 'autobus', 'tranvia', 'tranvia', 'autobus', 'autobus',\n",
       "       'autobus', 'autobus', 'coche', 'ambulancia', 'ambulancia',\n",
       "       'ambulancia', 'p0', 'p0', 'c0', 'c0'], dtype=object)"
      ]
     },
     "execution_count": 216,
     "metadata": {},
     "output_type": "execute_result"
    }
   ],
   "source": [
    "X[:, 0]"
   ]
  },
  {
   "cell_type": "code",
   "execution_count": 217,
   "id": "8abc6955",
   "metadata": {},
   "outputs": [
    {
     "data": {
      "text/plain": [
       "array(['DEBE_PARAR', 'ES', 'ESTAR', 'PELIGROSO', 'SUELE', 'TIENE'],\n",
       "      dtype=object)"
      ]
     },
     "execution_count": 217,
     "metadata": {},
     "output_type": "execute_result"
    }
   ],
   "source": [
    "relations = np.unique(X[:, 1])\n",
    "relations"
   ]
  },
  {
   "cell_type": "code",
   "execution_count": 218,
   "id": "c39a9bb3",
   "metadata": {},
   "outputs": [],
   "source": [
    "from ampligraph.evaluation import train_test_split_no_unseen \n",
    "\n",
    "X_train, X_test = train_test_split_no_unseen(X, test_size=30) "
   ]
  },
  {
   "cell_type": "code",
   "execution_count": 219,
   "id": "059a0d21",
   "metadata": {},
   "outputs": [
    {
     "name": "stdout",
     "output_type": "stream",
     "text": [
      "Train set size:  (202, 3)\n",
      "Test set size:  (30, 3)\n"
     ]
    }
   ],
   "source": [
    "print('Train set size: ', X_train.shape)\n",
    "print('Test set size: ', X_test.shape)"
   ]
  },
  {
   "cell_type": "code",
   "execution_count": 220,
   "id": "5f2b3ea9",
   "metadata": {},
   "outputs": [],
   "source": [
    "from ampligraph.latent_features import ComplEx"
   ]
  },
  {
   "cell_type": "code",
   "execution_count": 221,
   "id": "87fa6598",
   "metadata": {},
   "outputs": [],
   "source": [
    "positives_filter = X"
   ]
  },
  {
   "cell_type": "code",
   "execution_count": 222,
   "id": "c95c61c2",
   "metadata": {},
   "outputs": [],
   "source": [
    "model = ComplEx(batches_count=10, \n",
    "                seed=0, \n",
    "                epochs=400, \n",
    "                k=150, \n",
    "                eta=5,\n",
    "                optimizer='adam', \n",
    "                optimizer_params={'lr':1e-3},\n",
    "                loss='multiclass_nll', \n",
    "                regularizer='LP', \n",
    "                regularizer_params={'p':3, 'lambda':1e-5}, \n",
    "                verbose=True)"
   ]
  },
  {
   "cell_type": "code",
   "execution_count": 223,
   "id": "9c9e4a43",
   "metadata": {},
   "outputs": [
    {
     "name": "stderr",
     "output_type": "stream",
     "text": [
      "2022-05-10 15:55:04.561422: E tensorflow/stream_executor/cuda/cuda_gpu_executor.cc:969] could not open file to read NUMA node: /sys/bus/pci/devices/0000:01:00.0/numa_node\n",
      "Your kernel may have been built without NUMA support.\n",
      "2022-05-10 15:55:04.561508: I tensorflow/core/common_runtime/gpu/gpu_device.cc:1639] Found device 0 with properties: \n",
      "name: NVIDIA GeForce GTX 1650 Ti major: 7 minor: 5 memoryClockRate(GHz): 1.485\n",
      "pciBusID: 0000:01:00.0\n",
      "2022-05-10 15:55:04.561661: W tensorflow/stream_executor/platform/default/dso_loader.cc:55] Could not load dynamic library 'libcudart.so.10.0'; dlerror: libcudart.so.10.0: cannot open shared object file: No such file or directory\n",
      "2022-05-10 15:55:04.561819: W tensorflow/stream_executor/platform/default/dso_loader.cc:55] Could not load dynamic library 'libcublas.so.10.0'; dlerror: libcublas.so.10.0: cannot open shared object file: No such file or directory\n",
      "2022-05-10 15:55:04.561930: W tensorflow/stream_executor/platform/default/dso_loader.cc:55] Could not load dynamic library 'libcufft.so.10.0'; dlerror: libcufft.so.10.0: cannot open shared object file: No such file or directory\n",
      "2022-05-10 15:55:04.562000: W tensorflow/stream_executor/platform/default/dso_loader.cc:55] Could not load dynamic library 'libcurand.so.10.0'; dlerror: libcurand.so.10.0: cannot open shared object file: No such file or directory\n",
      "2022-05-10 15:55:04.562055: W tensorflow/stream_executor/platform/default/dso_loader.cc:55] Could not load dynamic library 'libcusolver.so.10.0'; dlerror: libcusolver.so.10.0: cannot open shared object file: No such file or directory\n",
      "2022-05-10 15:55:04.562129: W tensorflow/stream_executor/platform/default/dso_loader.cc:55] Could not load dynamic library 'libcusparse.so.10.0'; dlerror: libcusparse.so.10.0: cannot open shared object file: No such file or directory\n",
      "2022-05-10 15:55:04.562200: W tensorflow/stream_executor/platform/default/dso_loader.cc:55] Could not load dynamic library 'libcudnn.so.7'; dlerror: libcudnn.so.7: cannot open shared object file: No such file or directory\n",
      "2022-05-10 15:55:04.562212: W tensorflow/core/common_runtime/gpu/gpu_device.cc:1662] Cannot dlopen some GPU libraries. Please make sure the missing libraries mentioned above are installed properly if you would like to use GPU. Follow the guide at https://www.tensorflow.org/install/gpu for how to download and setup the required libraries for your platform.\n",
      "Skipping registering GPU devices...\n",
      "2022-05-10 15:55:04.562233: I tensorflow/core/common_runtime/gpu/gpu_device.cc:1180] Device interconnect StreamExecutor with strength 1 edge matrix:\n",
      "2022-05-10 15:55:04.562240: I tensorflow/core/common_runtime/gpu/gpu_device.cc:1186]      0 \n",
      "2022-05-10 15:55:04.562251: I tensorflow/core/common_runtime/gpu/gpu_device.cc:1199] 0:   N \n",
      "Average ComplEx Loss:   0.181163: 100%|███████████████████████████████████████████████████████████████████████████████████████████████████████████████████████████████████████| 400/400 [00:08<00:00, 45.06epoch/s]\n"
     ]
    }
   ],
   "source": [
    "import tensorflow as tf\n",
    "tf.logging.set_verbosity(tf.logging.ERROR)\n",
    "\n",
    "model.fit(X_train, early_stopping = False)"
   ]
  },
  {
   "cell_type": "code",
   "execution_count": 224,
   "id": "386719cc",
   "metadata": {},
   "outputs": [],
   "source": [
    "from ampligraph.latent_features import save_model, restore_model"
   ]
  },
  {
   "cell_type": "code",
   "execution_count": 225,
   "id": "761c9b8f",
   "metadata": {},
   "outputs": [],
   "source": [
    "save_model(model, './best_model.pkl')"
   ]
  },
  {
   "cell_type": "code",
   "execution_count": 226,
   "id": "05b19c53",
   "metadata": {},
   "outputs": [],
   "source": [
    "del model"
   ]
  },
  {
   "cell_type": "code",
   "execution_count": 227,
   "id": "738fc53c",
   "metadata": {},
   "outputs": [],
   "source": [
    "model = restore_model('./best_model.pkl')"
   ]
  },
  {
   "cell_type": "code",
   "execution_count": 228,
   "id": "165ee94a",
   "metadata": {},
   "outputs": [
    {
     "name": "stdout",
     "output_type": "stream",
     "text": [
      "The model is fit!\n"
     ]
    }
   ],
   "source": [
    "if model.is_fitted:\n",
    "    print('The model is fit!')\n",
    "else:\n",
    "    print('The model is not fit! Did you skip a step?')"
   ]
  },
  {
   "cell_type": "code",
   "execution_count": 229,
   "id": "8be082fb",
   "metadata": {},
   "outputs": [],
   "source": [
    "from ampligraph.evaluation import evaluate_performance"
   ]
  },
  {
   "cell_type": "code",
   "execution_count": 230,
   "id": "07aa1806",
   "metadata": {},
   "outputs": [
    {
     "name": "stdout",
     "output_type": "stream",
     "text": [
      "WARNING - DeprecationWarning: use_default_protocol will be removed in future. Please use corrupt_side argument instead.\n"
     ]
    },
    {
     "name": "stderr",
     "output_type": "stream",
     "text": [
      "2022-05-10 15:55:20.774074: E tensorflow/stream_executor/cuda/cuda_gpu_executor.cc:969] could not open file to read NUMA node: /sys/bus/pci/devices/0000:01:00.0/numa_node\n",
      "Your kernel may have been built without NUMA support.\n",
      "2022-05-10 15:55:20.774137: I tensorflow/core/common_runtime/gpu/gpu_device.cc:1639] Found device 0 with properties: \n",
      "name: NVIDIA GeForce GTX 1650 Ti major: 7 minor: 5 memoryClockRate(GHz): 1.485\n",
      "pciBusID: 0000:01:00.0\n",
      "2022-05-10 15:55:20.774227: W tensorflow/stream_executor/platform/default/dso_loader.cc:55] Could not load dynamic library 'libcudart.so.10.0'; dlerror: libcudart.so.10.0: cannot open shared object file: No such file or directory\n",
      "2022-05-10 15:55:20.774260: W tensorflow/stream_executor/platform/default/dso_loader.cc:55] Could not load dynamic library 'libcublas.so.10.0'; dlerror: libcublas.so.10.0: cannot open shared object file: No such file or directory\n",
      "2022-05-10 15:55:20.774290: W tensorflow/stream_executor/platform/default/dso_loader.cc:55] Could not load dynamic library 'libcufft.so.10.0'; dlerror: libcufft.so.10.0: cannot open shared object file: No such file or directory\n",
      "2022-05-10 15:55:20.774322: W tensorflow/stream_executor/platform/default/dso_loader.cc:55] Could not load dynamic library 'libcurand.so.10.0'; dlerror: libcurand.so.10.0: cannot open shared object file: No such file or directory\n",
      "2022-05-10 15:55:20.774352: W tensorflow/stream_executor/platform/default/dso_loader.cc:55] Could not load dynamic library 'libcusolver.so.10.0'; dlerror: libcusolver.so.10.0: cannot open shared object file: No such file or directory\n",
      "2022-05-10 15:55:20.774381: W tensorflow/stream_executor/platform/default/dso_loader.cc:55] Could not load dynamic library 'libcusparse.so.10.0'; dlerror: libcusparse.so.10.0: cannot open shared object file: No such file or directory\n",
      "2022-05-10 15:55:20.774420: W tensorflow/stream_executor/platform/default/dso_loader.cc:55] Could not load dynamic library 'libcudnn.so.7'; dlerror: libcudnn.so.7: cannot open shared object file: No such file or directory\n",
      "2022-05-10 15:55:20.774424: W tensorflow/core/common_runtime/gpu/gpu_device.cc:1662] Cannot dlopen some GPU libraries. Please make sure the missing libraries mentioned above are installed properly if you would like to use GPU. Follow the guide at https://www.tensorflow.org/install/gpu for how to download and setup the required libraries for your platform.\n",
      "Skipping registering GPU devices...\n",
      "2022-05-10 15:55:20.774435: I tensorflow/core/common_runtime/gpu/gpu_device.cc:1180] Device interconnect StreamExecutor with strength 1 edge matrix:\n",
      "2022-05-10 15:55:20.774439: I tensorflow/core/common_runtime/gpu/gpu_device.cc:1186]      0 \n",
      "2022-05-10 15:55:20.774442: I tensorflow/core/common_runtime/gpu/gpu_device.cc:1199] 0:   N \n",
      "100%|█████████████████████████████████████████████████████████████████████████████████████████████████████████████████████████████████████████████████████████████████████████████| 30/30 [00:00<00:00, 343.69it/s]\n"
     ]
    }
   ],
   "source": [
    "ranks = evaluate_performance(X_test, \n",
    "                             model=model, \n",
    "                             filter_triples=positives_filter,   # Corruption strategy filter defined above \n",
    "                             use_default_protocol=True, # corrupt subj and obj separately while evaluating\n",
    "                             verbose=True)"
   ]
  },
  {
   "cell_type": "code",
   "execution_count": 231,
   "id": "1bbc2a51",
   "metadata": {},
   "outputs": [
    {
     "name": "stdout",
     "output_type": "stream",
     "text": [
      "MRR: 0.57\n",
      "Hits@10: 0.70\n",
      "Hits@3: 0.60\n",
      "Hits@1: 0.52\n"
     ]
    }
   ],
   "source": [
    "from ampligraph.evaluation import mr_score, mrr_score, hits_at_n_score\n",
    "\n",
    "mrr = mrr_score(ranks)\n",
    "print(\"MRR: %.2f\" % (mrr))\n",
    "\n",
    "hits_10 = hits_at_n_score(ranks, n=10)\n",
    "print(\"Hits@10: %.2f\" % (hits_10))\n",
    "hits_3 = hits_at_n_score(ranks, n=3)\n",
    "print(\"Hits@3: %.2f\" % (hits_3))\n",
    "hits_1 = hits_at_n_score(ranks, n=1)\n",
    "print(\"Hits@1: %.2f\" % (hits_1))"
   ]
  },
  {
   "cell_type": "code",
   "execution_count": 232,
   "id": "2be7d64f",
   "metadata": {},
   "outputs": [],
   "source": [
    "X_unseen = np.array([\n",
    "    ['ambulancia','PELIGROSO','p0'],\n",
    "    ['ambulancia','PELIGROSO','p6'],\n",
    "    ['coche','PELIGROSO','p0'],\n",
    "    ['coche','PELIGROSO','p6'],\n",
    "    \n",
    "])"
   ]
  },
  {
   "cell_type": "code",
   "execution_count": 233,
   "id": "8fd9ca61",
   "metadata": {},
   "outputs": [],
   "source": [
    "unseen_filter = np.array(list({tuple(i) for i in np.vstack((positives_filter, X_unseen))}))"
   ]
  },
  {
   "cell_type": "code",
   "execution_count": 234,
   "id": "9c7d4f8c",
   "metadata": {},
   "outputs": [
    {
     "name": "stderr",
     "output_type": "stream",
     "text": [
      "2022-05-10 15:55:30.182833: E tensorflow/stream_executor/cuda/cuda_gpu_executor.cc:969] could not open file to read NUMA node: /sys/bus/pci/devices/0000:01:00.0/numa_node\n",
      "Your kernel may have been built without NUMA support.\n",
      "2022-05-10 15:55:30.182882: I tensorflow/core/common_runtime/gpu/gpu_device.cc:1639] Found device 0 with properties: \n",
      "name: NVIDIA GeForce GTX 1650 Ti major: 7 minor: 5 memoryClockRate(GHz): 1.485\n",
      "pciBusID: 0000:01:00.0\n",
      "2022-05-10 15:55:30.183016: W tensorflow/stream_executor/platform/default/dso_loader.cc:55] Could not load dynamic library 'libcudart.so.10.0'; dlerror: libcudart.so.10.0: cannot open shared object file: No such file or directory\n",
      "2022-05-10 15:55:30.183072: W tensorflow/stream_executor/platform/default/dso_loader.cc:55] Could not load dynamic library 'libcublas.so.10.0'; dlerror: libcublas.so.10.0: cannot open shared object file: No such file or directory\n",
      "2022-05-10 15:55:30.183103: W tensorflow/stream_executor/platform/default/dso_loader.cc:55] Could not load dynamic library 'libcufft.so.10.0'; dlerror: libcufft.so.10.0: cannot open shared object file: No such file or directory\n",
      "2022-05-10 15:55:30.183132: W tensorflow/stream_executor/platform/default/dso_loader.cc:55] Could not load dynamic library 'libcurand.so.10.0'; dlerror: libcurand.so.10.0: cannot open shared object file: No such file or directory\n",
      "2022-05-10 15:55:30.183161: W tensorflow/stream_executor/platform/default/dso_loader.cc:55] Could not load dynamic library 'libcusolver.so.10.0'; dlerror: libcusolver.so.10.0: cannot open shared object file: No such file or directory\n",
      "2022-05-10 15:55:30.183192: W tensorflow/stream_executor/platform/default/dso_loader.cc:55] Could not load dynamic library 'libcusparse.so.10.0'; dlerror: libcusparse.so.10.0: cannot open shared object file: No such file or directory\n",
      "2022-05-10 15:55:30.183232: W tensorflow/stream_executor/platform/default/dso_loader.cc:55] Could not load dynamic library 'libcudnn.so.7'; dlerror: libcudnn.so.7: cannot open shared object file: No such file or directory\n",
      "2022-05-10 15:55:30.183236: W tensorflow/core/common_runtime/gpu/gpu_device.cc:1662] Cannot dlopen some GPU libraries. Please make sure the missing libraries mentioned above are installed properly if you would like to use GPU. Follow the guide at https://www.tensorflow.org/install/gpu for how to download and setup the required libraries for your platform.\n",
      "Skipping registering GPU devices...\n",
      "2022-05-10 15:55:30.183246: I tensorflow/core/common_runtime/gpu/gpu_device.cc:1180] Device interconnect StreamExecutor with strength 1 edge matrix:\n",
      "2022-05-10 15:55:30.183250: I tensorflow/core/common_runtime/gpu/gpu_device.cc:1186]      0 \n",
      "2022-05-10 15:55:30.183252: I tensorflow/core/common_runtime/gpu/gpu_device.cc:1199] 0:   N \n",
      "100%|████████████████████████████████████████████████████████████████████████████████████████████████████████████████████████████████████████████████████████████████████████████████| 4/4 [00:00<00:00, 65.54it/s]\n"
     ]
    }
   ],
   "source": [
    "ranks_unseen = evaluate_performance(\n",
    "    X_unseen, \n",
    "    model=model, \n",
    "    filter_triples=unseen_filter,   # Corruption strategy filter defined above \n",
    "    corrupt_side = 's+o',\n",
    "    use_default_protocol=False, # corrupt subj and obj separately while evaluating\n",
    "    verbose=True\n",
    ")"
   ]
  },
  {
   "cell_type": "code",
   "execution_count": 235,
   "id": "115839c2",
   "metadata": {},
   "outputs": [
    {
     "name": "stderr",
     "output_type": "stream",
     "text": [
      "2022-05-10 15:55:31.857555: E tensorflow/stream_executor/cuda/cuda_gpu_executor.cc:969] could not open file to read NUMA node: /sys/bus/pci/devices/0000:01:00.0/numa_node\n",
      "Your kernel may have been built without NUMA support.\n",
      "2022-05-10 15:55:31.857606: I tensorflow/core/common_runtime/gpu/gpu_device.cc:1639] Found device 0 with properties: \n",
      "name: NVIDIA GeForce GTX 1650 Ti major: 7 minor: 5 memoryClockRate(GHz): 1.485\n",
      "pciBusID: 0000:01:00.0\n",
      "2022-05-10 15:55:31.857701: W tensorflow/stream_executor/platform/default/dso_loader.cc:55] Could not load dynamic library 'libcudart.so.10.0'; dlerror: libcudart.so.10.0: cannot open shared object file: No such file or directory\n",
      "2022-05-10 15:55:31.857782: W tensorflow/stream_executor/platform/default/dso_loader.cc:55] Could not load dynamic library 'libcublas.so.10.0'; dlerror: libcublas.so.10.0: cannot open shared object file: No such file or directory\n",
      "2022-05-10 15:55:31.857817: W tensorflow/stream_executor/platform/default/dso_loader.cc:55] Could not load dynamic library 'libcufft.so.10.0'; dlerror: libcufft.so.10.0: cannot open shared object file: No such file or directory\n",
      "2022-05-10 15:55:31.857844: W tensorflow/stream_executor/platform/default/dso_loader.cc:55] Could not load dynamic library 'libcurand.so.10.0'; dlerror: libcurand.so.10.0: cannot open shared object file: No such file or directory\n",
      "2022-05-10 15:55:31.857872: W tensorflow/stream_executor/platform/default/dso_loader.cc:55] Could not load dynamic library 'libcusolver.so.10.0'; dlerror: libcusolver.so.10.0: cannot open shared object file: No such file or directory\n",
      "2022-05-10 15:55:31.857899: W tensorflow/stream_executor/platform/default/dso_loader.cc:55] Could not load dynamic library 'libcusparse.so.10.0'; dlerror: libcusparse.so.10.0: cannot open shared object file: No such file or directory\n",
      "2022-05-10 15:55:31.857927: W tensorflow/stream_executor/platform/default/dso_loader.cc:55] Could not load dynamic library 'libcudnn.so.7'; dlerror: libcudnn.so.7: cannot open shared object file: No such file or directory\n",
      "2022-05-10 15:55:31.857932: W tensorflow/core/common_runtime/gpu/gpu_device.cc:1662] Cannot dlopen some GPU libraries. Please make sure the missing libraries mentioned above are installed properly if you would like to use GPU. Follow the guide at https://www.tensorflow.org/install/gpu for how to download and setup the required libraries for your platform.\n",
      "Skipping registering GPU devices...\n",
      "2022-05-10 15:55:31.857942: I tensorflow/core/common_runtime/gpu/gpu_device.cc:1180] Device interconnect StreamExecutor with strength 1 edge matrix:\n",
      "2022-05-10 15:55:31.857946: I tensorflow/core/common_runtime/gpu/gpu_device.cc:1186]      0 \n",
      "2022-05-10 15:55:31.857949: I tensorflow/core/common_runtime/gpu/gpu_device.cc:1199] 0:   N \n"
     ]
    }
   ],
   "source": [
    "scores = model.predict(X_unseen)"
   ]
  },
  {
   "cell_type": "code",
   "execution_count": 236,
   "id": "bf9278a6",
   "metadata": {},
   "outputs": [],
   "source": [
    "from scipy.special import expit\n",
    "probs = expit(scores)"
   ]
  },
  {
   "cell_type": "code",
   "execution_count": 237,
   "id": "d5eed3ae",
   "metadata": {},
   "outputs": [
    {
     "data": {
      "text/plain": [
       "array([0.61624634, 0.6037233 , 0.58035237, 0.5201964 ], dtype=float32)"
      ]
     },
     "execution_count": 237,
     "metadata": {},
     "output_type": "execute_result"
    }
   ],
   "source": [
    "probs"
   ]
  },
  {
   "cell_type": "code",
   "execution_count": 238,
   "id": "b3c4e240",
   "metadata": {},
   "outputs": [
    {
     "data": {
      "text/html": [
       "<div>\n",
       "<style scoped>\n",
       "    .dataframe tbody tr th:only-of-type {\n",
       "        vertical-align: middle;\n",
       "    }\n",
       "\n",
       "    .dataframe tbody tr th {\n",
       "        vertical-align: top;\n",
       "    }\n",
       "\n",
       "    .dataframe thead th {\n",
       "        text-align: right;\n",
       "    }\n",
       "</style>\n",
       "<table border=\"1\" class=\"dataframe\">\n",
       "  <thead>\n",
       "    <tr style=\"text-align: right;\">\n",
       "      <th></th>\n",
       "      <th>statement</th>\n",
       "      <th>rank</th>\n",
       "      <th>score</th>\n",
       "      <th>prob</th>\n",
       "    </tr>\n",
       "  </thead>\n",
       "  <tbody>\n",
       "    <tr>\n",
       "      <th>3</th>\n",
       "      <td>coche PELIGROSO p6</td>\n",
       "      <td>105</td>\n",
       "      <td>0.080830</td>\n",
       "      <td>0.520196</td>\n",
       "    </tr>\n",
       "    <tr>\n",
       "      <th>2</th>\n",
       "      <td>coche PELIGROSO p0</td>\n",
       "      <td>49</td>\n",
       "      <td>0.324220</td>\n",
       "      <td>0.580352</td>\n",
       "    </tr>\n",
       "    <tr>\n",
       "      <th>1</th>\n",
       "      <td>ambulancia PELIGROSO p6</td>\n",
       "      <td>36</td>\n",
       "      <td>0.421003</td>\n",
       "      <td>0.603723</td>\n",
       "    </tr>\n",
       "    <tr>\n",
       "      <th>0</th>\n",
       "      <td>ambulancia PELIGROSO p0</td>\n",
       "      <td>33</td>\n",
       "      <td>0.473646</td>\n",
       "      <td>0.616246</td>\n",
       "    </tr>\n",
       "  </tbody>\n",
       "</table>\n",
       "</div>"
      ],
      "text/plain": [
       "                 statement  rank     score      prob\n",
       "3       coche PELIGROSO p6   105  0.080830  0.520196\n",
       "2       coche PELIGROSO p0    49  0.324220  0.580352\n",
       "1  ambulancia PELIGROSO p6    36  0.421003  0.603723\n",
       "0  ambulancia PELIGROSO p0    33  0.473646  0.616246"
      ]
     },
     "execution_count": 238,
     "metadata": {},
     "output_type": "execute_result"
    }
   ],
   "source": [
    "pd.DataFrame(list(zip([' '.join(x) for x in X_unseen], \n",
    "                      ranks_unseen, \n",
    "                      np.squeeze(scores),\n",
    "                      np.squeeze(probs))), \n",
    "             columns=['statement', 'rank', 'score', 'prob']).sort_values(\"score\")"
   ]
  },
  {
   "cell_type": "code",
   "execution_count": 239,
   "id": "b942f97b",
   "metadata": {},
   "outputs": [],
   "source": [
    "from ampligraph.utils import create_tensorboard_visualizations"
   ]
  },
  {
   "cell_type": "code",
   "execution_count": null,
   "id": "cec2c86d",
   "metadata": {},
   "outputs": [],
   "source": [
    "create_tensorboard_visualizations(model, 'GoT_embeddings')"
   ]
  },
  {
   "cell_type": "code",
   "execution_count": null,
   "id": "e1925461",
   "metadata": {},
   "outputs": [],
   "source": [
    "tensorboard --logdir=./visualizations"
   ]
  },
  {
   "cell_type": "code",
   "execution_count": null,
   "id": "ace5f421",
   "metadata": {},
   "outputs": [],
   "source": []
  }
 ],
 "metadata": {
  "kernelspec": {
   "display_name": "Python 3 (ipykernel)",
   "language": "python",
   "name": "python3"
  },
  "language_info": {
   "codemirror_mode": {
    "name": "ipython",
    "version": 3
   },
   "file_extension": ".py",
   "mimetype": "text/x-python",
   "name": "python",
   "nbconvert_exporter": "python",
   "pygments_lexer": "ipython3",
   "version": "3.7.13"
  }
 },
 "nbformat": 4,
 "nbformat_minor": 5
}
